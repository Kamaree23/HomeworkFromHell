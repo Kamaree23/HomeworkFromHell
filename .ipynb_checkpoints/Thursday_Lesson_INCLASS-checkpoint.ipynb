{
 "cells": [
  {
   "cell_type": "markdown",
   "metadata": {},
   "source": [
    "# Object-Oriented-Programming (OOP)"
   ]
  },
  {
   "cell_type": "markdown",
   "metadata": {},
   "source": [
    "## Tasks Today:\n",
    "\n",
    "   \n",
    "\n",
    "1) <b>Creating a Class (Initializing/Declaring)</b> <br>\n",
    "2) <b>Using a Class (Instantiating)</b> <br>\n",
    " &nbsp;&nbsp;&nbsp;&nbsp; a) Creating One Instance <br>\n",
    " &nbsp;&nbsp;&nbsp;&nbsp; b) Creating Multiple Instances <br>\n",
    " &nbsp;&nbsp;&nbsp;&nbsp; c) In-Class Exercise #1 - Create a Class 'Car' and instantiate three different makes of cars <br>\n",
    "3) <b>The \\__init\\__() Method</b> <br>\n",
    " &nbsp;&nbsp;&nbsp;&nbsp; a) The 'self' Attribute <br>\n",
    "4) <b>Class Attributes</b> <br>\n",
    " &nbsp;&nbsp;&nbsp;&nbsp; a) Initializing Attributes <br>\n",
    " &nbsp;&nbsp;&nbsp;&nbsp; b) Setting an Attribute Outside of the \\__init\\__() Method <br>\n",
    " &nbsp;&nbsp;&nbsp;&nbsp; c) Setting Defaults for Attributes <br>\n",
    " &nbsp;&nbsp;&nbsp;&nbsp; d) Accessing Class Attributes <br>\n",
    " &nbsp;&nbsp;&nbsp;&nbsp; e) Changing Class Attributes <br>\n",
    " &nbsp;&nbsp;&nbsp;&nbsp; f) In-Class Exercise #2 - Add a color and wheels attribute to your 'Car' class <br>\n",
    "5) <b>Class Methods</b> <br>\n",
    " &nbsp;&nbsp;&nbsp;&nbsp; a) Creating <br>\n",
    " &nbsp;&nbsp;&nbsp;&nbsp; b) Calling <br>\n",
    " &nbsp;&nbsp;&nbsp;&nbsp; c) Modifying an Attribute's Value Through a Method <br>\n",
    " &nbsp;&nbsp;&nbsp;&nbsp; d) Incrementing an Attribute's Value Through a Method <br>\n",
    " &nbsp;&nbsp;&nbsp;&nbsp; e) In-Class Exercise #3 - Add a method that prints the cars color and wheel number, then call them <br>\n",
    "6) <b>Inheritance</b> <br>\n",
    " &nbsp;&nbsp;&nbsp;&nbsp; a) Syntax for Inheriting from a Parent Class <br>\n",
    " &nbsp;&nbsp;&nbsp;&nbsp; b) The \\__init\\__() Method for a Child Class (super()) <br>\n",
    " &nbsp;&nbsp;&nbsp;&nbsp; c) Defining Attributes and Methods for the Child Class <br>\n",
    " &nbsp;&nbsp;&nbsp;&nbsp; d) Method Overriding <br>\n",
    " &nbsp;&nbsp;&nbsp;&nbsp; e) In-Class Exercise #4 - Create a class 'Ford' that inherits from 'Car' class and initialize it as a Blue Ford Explorer with 4 wheels using the super() method <br>\n",
    "7) <b>Classes as Attributes</b> <br>\n",
    "8) <b>Exercises</b> <br>\n",
    " &nbsp;&nbsp;&nbsp;&nbsp; a) Exercise #1 - Turn the shopping cart program from yesterday into an object-oriented program <br>"
   ]
  },
  {
   "cell_type": "markdown",
   "metadata": {},
   "source": [
    "## Creating a Class (Initializing/Declaring)\n",
    "<p>When creating a class, function, or even a variable you are initializing that object. Initializing and Declaring occur at the same time in Python, whereas in lower level languages you have to declare an object before initializing it. This is the first step in the process of using a class.</p>"
   ]
  },
  {
   "cell_type": "code",
   "execution_count": 8,
   "metadata": {},
   "outputs": [],
   "source": [
    "#Should start with capital letter\n",
    "class Car():\n",
    "    wheels = 4\n",
    "    color = 'blue'"
   ]
  },
  {
   "cell_type": "markdown",
   "metadata": {},
   "source": [
    "## Using a Class (Instantiating)\n",
    "<p>The process of creating a class is called <i>Instantiating</i>. Each time you create a variable of that type of class, it is referred to as an <i>Instance</i> of that class. This is the second step in the process of using a class.</p>"
   ]
  },
  {
   "cell_type": "markdown",
   "metadata": {},
   "source": [
    "##### Creating One Instance"
   ]
  },
  {
   "cell_type": "code",
   "execution_count": 13,
   "metadata": {},
   "outputs": [],
   "source": [
    "c1 = Car()\n",
    "c3 = Car()"
   ]
  },
  {
   "cell_type": "markdown",
   "metadata": {},
   "source": [
    "##### Creating Multiple Instances"
   ]
  },
  {
   "cell_type": "code",
   "execution_count": 9,
   "metadata": {},
   "outputs": [
    {
     "ename": "NameError",
     "evalue": "name 'c1' is not defined",
     "output_type": "error",
     "traceback": [
      "\u001b[1;31m---------------------------------------------------------------------------\u001b[0m",
      "\u001b[1;31mNameError\u001b[0m                                 Traceback (most recent call last)",
      "Input \u001b[1;32mIn [9]\u001b[0m, in \u001b[0;36m<cell line: 3>\u001b[1;34m()\u001b[0m\n\u001b[0;32m      1\u001b[0m \u001b[38;5;66;03m#see above\u001b[39;00m\n\u001b[1;32m----> 3\u001b[0m \u001b[43mc1\u001b[49m\u001b[38;5;241m.\u001b[39mwheels\n",
      "\u001b[1;31mNameError\u001b[0m: name 'c1' is not defined"
     ]
    }
   ],
   "source": [
    "#see above\n",
    "\n"
   ]
  },
  {
   "cell_type": "markdown",
   "metadata": {},
   "source": [
    "##### In-Class Exercise #1 - Create a Class 'Car' and Instantiate three different makes of cars"
   ]
  },
  {
   "cell_type": "code",
   "execution_count": 12,
   "metadata": {},
   "outputs": [
    {
     "data": {
      "text/plain": [
       "'matte white'"
      ]
     },
     "execution_count": 12,
     "metadata": {},
     "output_type": "execute_result"
    }
   ],
   "source": [
    "class Vehicle():\n",
    "    Sunroof = 'yes'\n",
    "    color = 'matte white'\n",
    "    Wheels = 'custom'\n",
    "\n",
    "honda = Vehicle()\n",
    "honda.color"
   ]
  },
  {
   "cell_type": "markdown",
   "metadata": {},
   "source": [
    "## The \\__init\\__() Method <br>\n",
    "<p>This method is used in almost every created class, and called only once upon the creation of the class instance. This method will initialize all variables needed for the object.</p>"
   ]
  },
  {
   "cell_type": "code",
   "execution_count": 45,
   "metadata": {},
   "outputs": [
    {
     "name": "stdout",
     "output_type": "stream",
     "text": [
      "\n",
      "aqui estoy migooo\n"
     ]
    }
   ],
   "source": [
    "class User():\n",
    "    name = ''\n",
    "    age = 0\n",
    "    #dunderMethod Double underscore methods\n",
    "    def __init__(self, n, l_n, age, email, address='', bio='', isAdmin=False):\n",
    "        self.first_name = n\n",
    "        self.last_name = l_n\n",
    "        self.age = age\n",
    "        self.email = email\n",
    "        self.hello =  address\n",
    "        self.isHuman = True\n",
    "        self.bio= bio\n",
    "        self.isAdmin = isAdmin\n",
    "        \n",
    "        \n",
    "    def talk(self):\n",
    "        return \"aqui estoy migooo\"\n",
    "        \n",
    "    def updateBio(self, newBio):\n",
    "        self.bio = newBio\n",
    "        \n",
    "    def getFullName(self):\n",
    "        return f\"{self.first_name} {self.last_name}\"\n",
    "    def happyBirthday(self):\n",
    "        self.age += 1\n",
    "        \n",
    "u1 = User('Kamaree', 'robinson', 22, 'jkd', isAdmin=True)\n",
    "\n",
    "\n",
    "\n",
    "print(u1.name)\n",
    "print(u1.talk())"
   ]
  },
  {
   "cell_type": "markdown",
   "metadata": {},
   "source": [
    "##### The 'self' Attribute <br>\n",
    "<p>This attribute is required to keep track of specific instance's attributes. Without the self attribute, the program would not know how to reference or keep track of an instance's attributes.</p>"
   ]
  },
  {
   "cell_type": "code",
   "execution_count": null,
   "metadata": {},
   "outputs": [],
   "source": [
    "# see above"
   ]
  },
  {
   "cell_type": "markdown",
   "metadata": {},
   "source": [
    "## Class Attributes <br>\n",
    "<p>While variables are inside of a class, they are referred to as attributes and not variables. When someone says 'attribute' you know they're speaking about a class. Attributes can be initialized through the init method, or outside of it.</p>"
   ]
  },
  {
   "cell_type": "markdown",
   "metadata": {},
   "source": [
    "##### Initializing Attributes"
   ]
  },
  {
   "cell_type": "code",
   "execution_count": null,
   "metadata": {},
   "outputs": [],
   "source": [
    "# see above"
   ]
  },
  {
   "cell_type": "markdown",
   "metadata": {},
   "source": [
    "##### Accessing Class Attributes"
   ]
  },
  {
   "cell_type": "code",
   "execution_count": null,
   "metadata": {
    "scrolled": true
   },
   "outputs": [],
   "source": [
    "# See Above"
   ]
  },
  {
   "cell_type": "markdown",
   "metadata": {},
   "source": [
    "##### Setting Defaults for Attributes"
   ]
  },
  {
   "cell_type": "code",
   "execution_count": null,
   "metadata": {},
   "outputs": [],
   "source": []
  },
  {
   "cell_type": "markdown",
   "metadata": {},
   "source": [
    "##### Changing Class Attributes <br>\n",
    "<p>Keep in mind there are global class attributes and then there are attributes only available to each class instance which won't effect other classes.</p>"
   ]
  },
  {
   "cell_type": "code",
   "execution_count": null,
   "metadata": {},
   "outputs": [],
   "source": []
  },
  {
   "cell_type": "code",
   "execution_count": null,
   "metadata": {},
   "outputs": [],
   "source": []
  },
  {
   "cell_type": "markdown",
   "metadata": {},
   "source": [
    "##### In-Class Exercise #2 - Add a doors and seats attribute to your 'Car' class then print out two different instances with different doors and seats"
   ]
  },
  {
   "cell_type": "code",
   "execution_count": 41,
   "metadata": {},
   "outputs": [
    {
     "name": "stdout",
     "output_type": "stream",
     "text": [
      "matte Black\n"
     ]
    }
   ],
   "source": [
    "class Car():\n",
    "    def __init__(self, sunroof, color, door, seat, make, model):\n",
    "        self.Sunroof = sunroof\n",
    "        self.color = color\n",
    "        self.door = door\n",
    "        self.seat = seat\n",
    "        self.make = make\n",
    "        self.model = model\n",
    "    \n",
    "    \n",
    "infinity = Car('yes', 'matte Black', 4, 6, 'infinity', 'g35')\n",
    "Suburu = Car('no', 'silver', 2, 5, 'suburu', 'wrx')\n",
    "\n",
    "print(infinity.color)\n",
    "\n",
    "    "
   ]
  },
  {
   "cell_type": "markdown",
   "metadata": {},
   "source": [
    "## Class Methods <br>\n",
    "<p>While inside of a class, functions are referred to as 'methods'. If you hear someone mention methods, they're speaking about classes. Methods are essentially functions, but only callable on the instances of a class.</p>"
   ]
  },
  {
   "cell_type": "markdown",
   "metadata": {},
   "source": [
    "##### Creating"
   ]
  },
  {
   "cell_type": "code",
   "execution_count": null,
   "metadata": {},
   "outputs": [],
   "source": []
  },
  {
   "cell_type": "markdown",
   "metadata": {},
   "source": [
    "##### Calling"
   ]
  },
  {
   "cell_type": "code",
   "execution_count": null,
   "metadata": {},
   "outputs": [],
   "source": [
    "# See Above"
   ]
  },
  {
   "cell_type": "markdown",
   "metadata": {},
   "source": [
    "##### Modifying an Attribute's Value Through a Method"
   ]
  },
  {
   "cell_type": "code",
   "execution_count": null,
   "metadata": {},
   "outputs": [],
   "source": []
  },
  {
   "cell_type": "markdown",
   "metadata": {},
   "source": [
    "##### Incrementing an Attribute's Value Through a Method"
   ]
  },
  {
   "cell_type": "code",
   "execution_count": 48,
   "metadata": {},
   "outputs": [
    {
     "ename": "AttributeError",
     "evalue": "'User' object has no attribute 'happyBirthday'",
     "output_type": "error",
     "traceback": [
      "\u001b[1;31m---------------------------------------------------------------------------\u001b[0m",
      "\u001b[1;31mAttributeError\u001b[0m                            Traceback (most recent call last)",
      "Input \u001b[1;32mIn [48]\u001b[0m, in \u001b[0;36m<cell line: 1>\u001b[1;34m()\u001b[0m\n\u001b[1;32m----> 1\u001b[0m \u001b[43mu1\u001b[49m\u001b[38;5;241;43m.\u001b[39;49m\u001b[43mhappyBirthday\u001b[49m()\n",
      "\u001b[1;31mAttributeError\u001b[0m: 'User' object has no attribute 'happyBirthday'"
     ]
    }
   ],
   "source": [
    "u1.happyBirthday()"
   ]
  },
  {
   "cell_type": "markdown",
   "metadata": {},
   "source": [
    "##### In-Class Exercise #3 - Add a method that takes in three parameters of year, doors and seats and prints out a formatted print statement with make, model, year, seats, and doors"
   ]
  },
  {
   "cell_type": "code",
   "execution_count": null,
   "metadata": {},
   "outputs": [],
   "source": [
    "# Create class with 2 paramters inside of the __init__ which are make and model\n",
    "\n",
    "# Inside of the Car class create a method that has 4 parameter in total (self,year,door,seats)\n",
    "\n",
    "# Output: This car is from 2019 and is a Ford Expolorer and has 4 doors and 5 seats\n",
    "\n"
   ]
  },
  {
   "cell_type": "markdown",
   "metadata": {},
   "source": [
    "## Inheritance <br>\n",
    "<p>You can create a child-parent relationship between two classes by using inheritance. What this allows you to do is have overriding methods, but also inherit traits from the parent class. Think of it as an actual parent and child, the child will inherit the parent's genes, as will the classes in OOP</p>"
   ]
  },
  {
   "cell_type": "markdown",
   "metadata": {},
   "source": [
    "##### Syntax for Inheriting from a Parent Class"
   ]
  },
  {
   "cell_type": "code",
   "execution_count": 57,
   "metadata": {},
   "outputs": [
    {
     "name": "stdout",
     "output_type": "stream",
     "text": [
      "--\n",
      "<class '__main__.Animal'>\n",
      "\n",
      "\n",
      "Fluffy\n",
      "--\n",
      "<class '__main__.Dog'>\n",
      "\n",
      "\n",
      "Fluffy\n",
      "....\n",
      "<class '__main__.Cat'>\n",
      "False\n"
     ]
    }
   ],
   "source": [
    "class Animal():\n",
    "    def __init__(self, name, species='', legs='4'):\n",
    "        self.name = name\n",
    "        self.species = species\n",
    "        self.legs = legs\n",
    "    def sniff(self):\n",
    "        return '--'\n",
    "    \n",
    " #children   \n",
    "class Dog(Animal):\n",
    "    def __init__(self, name, species='Feline', legs=4, isCute=True , isClean = True):\n",
    "        self.isCute = isCute\n",
    "        self.isClean = isClean\n",
    "    \n",
    "class Cat(Animal):\n",
    "    def __init__(self, name, species = 'feline', legs = 4, isCute = False, isClean = True):\n",
    "        #if you happen to redo def init it will call the inherited traits regrdless \n",
    "        #using super().__init()\n",
    "        #Or you can call the class\n",
    "        super().__init__(name, species, legs)\n",
    "        self.isCute = isCute\n",
    "        self.isClean = isClean\n",
    "        \n",
    "    def sniff(self):\n",
    "        return '....'\n",
    "   \n",
    "\n",
    "a1 = Animal('Kam', 'Human', 2)\n",
    "print(a1.sniff())\n",
    "print(type(a1))\n",
    "print(\"\\n\")\n",
    "\n",
    "\n",
    "d1 = Dog('Fluffy', 'canine')\n",
    "print(d1.name)\n",
    "print(d1.sniff())\n",
    "print(type(d1))\n",
    "print('\\n')\n",
    "\n",
    "c1 = Cat('Fluffy', 'canine')\n",
    "print(c1.name)\n",
    "print(c1.sniff())\n",
    "print(type(c1))\n",
    "print(c1.isCute)"
   ]
  },
  {
   "cell_type": "markdown",
   "metadata": {},
   "source": [
    "##### The \\__init\\__() Method for a Child Class - super()"
   ]
  },
  {
   "cell_type": "code",
   "execution_count": null,
   "metadata": {
    "scrolled": true
   },
   "outputs": [],
   "source": [
    "#see above"
   ]
  },
  {
   "cell_type": "markdown",
   "metadata": {},
   "source": [
    "##### Defining Attributes and Methods for the Child Class"
   ]
  },
  {
   "cell_type": "code",
   "execution_count": null,
   "metadata": {},
   "outputs": [],
   "source": [
    "# See Above"
   ]
  },
  {
   "cell_type": "markdown",
   "metadata": {},
   "source": [
    "##### Method Overriding"
   ]
  },
  {
   "cell_type": "code",
   "execution_count": null,
   "metadata": {},
   "outputs": [],
   "source": [
    "# See Above\n",
    "#adding another def __init__"
   ]
  },
  {
   "cell_type": "markdown",
   "metadata": {},
   "source": [
    "## Classes as Attributes <br>\n",
    "<p>Classes can also be used as attributes within another class. This is useful in situations where you need to keep variables locally stored, instead of globally stored.</p>"
   ]
  },
  {
   "cell_type": "code",
   "execution_count": 60,
   "metadata": {},
   "outputs": [
    {
     "data": {
      "text/plain": [
       "10"
      ]
     },
     "execution_count": 60,
     "metadata": {},
     "output_type": "execute_result"
    }
   ],
   "source": [
    "class Battery():\n",
    "    def __init__(self,cells):\n",
    "        self.volts = 7.8\n",
    "        self.cells = cells\n",
    "        \n",
    "class Car():\n",
    "    def __init__(self, make, model, year, battery):\n",
    "        self.make = make\n",
    "        self.model = model\n",
    "        self.year = year\n",
    "        self.battery = battery\n",
    "        \n",
    "        def printinfo(self):\n",
    "            return f'This is a {self.year} {self.make}{self.model} and has a {self.battery.volts} volt battery'\n",
    "b = Battery(10)\n",
    "\n",
    "c = Car('Honda', 'Civic', 2001, b)\n",
    "\n",
    "c.battery.cells"
   ]
  },
  {
   "cell_type": "markdown",
   "metadata": {},
   "source": [
    "# Exercises"
   ]
  },
  {
   "cell_type": "markdown",
   "metadata": {},
   "source": [
    "### Exercise 1 - Turn the shopping cart program from yesterday into an object-oriented program\n",
    "\n",
    "The comments in the cell below are there as a guide for thinking about the problem. However, if you feel a different way is best for you and your own thought process, please do what feels best for you by all means."
   ]
  },
  {
   "cell_type": "code",
   "execution_count": null,
   "metadata": {},
   "outputs": [],
   "source": [
    "# Create a class called cart that retains items and has methods to add, remove, and show\n",
    "\n",
    "class ShoppingSpree():\n",
    "    def __init__(self):\n",
    "        self.shopping_list = []\n",
    "\n",
    "    def showlist(shopping_list):\n",
    "        print(f\"Here's what is in your list today! {shopping_list}\")\n",
    "        checking = input(\"\\nDoes everything look right?\")\n",
    "        if checking == 'yes':\n",
    "            return\n",
    "        elif checking == 'no':\n",
    "            print('okay lets head back to the menu and see what we can do!\\n')\n",
    "\n",
    "\n",
    "    def add(shopping_list):\n",
    "        things = input(\"What would you like to add today?\")\n",
    "        shopping_list.append(things)\n",
    "        \n",
    "\n",
    "\n",
    "    def delete(shopping_list):\n",
    "        print(shopping_list)\n",
    "        word = input(f\"What would you like to delete out of your shopping list?\\n\")\n",
    "        if word in shopping_list:\n",
    "            print(f'{shopping_list.remove}')\n",
    "        elif word not in shopping_list:\n",
    "            print(f\"Lets try something else.\")\n",
    "                \n",
    "\n",
    "\n",
    "\n",
    "    def clear(shopping_list):\n",
    "        finish_him = input(\n",
    "            f'\\nCAUTION!!!\\n You are about to remove these items in your cart\\n {shopping_list}\\n Are you sure?')\n",
    "        if finish_him == 'yes':\n",
    "            shopping_list.clear()\n",
    "            print(f'The items in your cart are gone.')\n",
    "\n",
    "\n",
    "    def quit(shopping_list):\n",
    "        end = input(f'Are you sure you want to quit the program?')\n",
    "        if end == 'yes':\n",
    "            print(f'Thanks for shopping with us! \\n BYE BYE!')\n",
    "\n",
    "\n",
    "def shopping_game():\n",
    "\n",
    "    shopping_list = []\n",
    "\n",
    "    shopping = True\n",
    "\n",
    "    while shopping:\n",
    "\n",
    "        hello = input(\"Welcome to your Shopping list! What would you like to do today?: \\n Show(sl)/Add(a)/Delete(d)/Clear(c) or quit(q)?\\n\")\n",
    "        \n",
    "        \n",
    "        if hello == \"a\":\n",
    "            ShoppingSpree.add(shopping_list)\n",
    "        elif hello == \"sl\":\n",
    "            ShoppingSpree.showlist(shopping_list)\n",
    "        elif hello == \"d\":\n",
    "            ShoppingSpree.delete(shopping_list)\n",
    "        elif hello == \"c\":\n",
    "            ShoppingSpree.clear(shopping_list)\n",
    "        elif hello == \"q\":\n",
    "            ShoppingSpree.quit(shopping_list)\n",
    "            break\n",
    "\n",
    "shopping_game()\n",
    "    "
   ]
  },
  {
   "cell_type": "markdown",
   "metadata": {},
   "source": [
    "### Exercise 2 - Write a Python class which has two methods get_String and print_String. get_String accept a string from the user and print_String print the string in upper case"
   ]
  },
  {
   "cell_type": "code",
   "execution_count": 2,
   "metadata": {},
   "outputs": [
    {
     "name": "stdout",
     "output_type": "stream",
     "text": [
      "HELLO\n"
     ]
    }
   ],
   "source": [
    "class User():\n",
    "    def __init__(self):\n",
    "        self.get = ''\n",
    "    def get_string(self):\n",
    "            self.get = input(\"Give me a message\")\n",
    "            \n",
    "    def print_string(self):\n",
    "            print(self.get.upper())\n",
    "\n",
    "Kamaree = User()\n",
    "Kamaree.get_string()\n",
    "Kamaree.print_string()\n",
    "\n"
   ]
  },
  {
   "cell_type": "code",
   "execution_count": null,
   "metadata": {},
   "outputs": [],
   "source": []
  }
 ],
 "metadata": {
  "kernelspec": {
   "display_name": "Python 3 (ipykernel)",
   "language": "python",
   "name": "python3"
  },
  "language_info": {
   "codemirror_mode": {
    "name": "ipython",
    "version": 3
   },
   "file_extension": ".py",
   "mimetype": "text/x-python",
   "name": "python",
   "nbconvert_exporter": "python",
   "pygments_lexer": "ipython3",
   "version": "3.9.12"
  },
  "vscode": {
   "interpreter": {
    "hash": "d1529176af45bd839d0be8652951a4338606a53b18db8848f1c72c8e09f0d88f"
   }
  }
 },
 "nbformat": 4,
 "nbformat_minor": 2
}
